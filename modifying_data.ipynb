{
 "cells": [
  {
   "cell_type": "markdown",
   "id": "5629cb2c",
   "metadata": {},
   "source": [
    "### Sampling and Previewing Data: Using df.sample() and df.head()"
   ]
  },
  {
   "cell_type": "code",
   "execution_count": null,
   "id": "8e5d0ee0",
   "metadata": {},
   "outputs": [],
   "source": [
    "import pandas as pd\n",
    "df = pd.read_csv('model_logs.csv')"
   ]
  },
  {
   "cell_type": "code",
   "execution_count": null,
   "id": "9593798b",
   "metadata": {},
   "outputs": [],
   "source": [
    "df.head(3)"
   ]
  },
  {
   "cell_type": "code",
   "execution_count": null,
   "id": "8a719cd1",
   "metadata": {},
   "outputs": [],
   "source": [
    "random_row = df.sample()\n",
    "random_row"
   ]
  },
  {
   "cell_type": "code",
   "execution_count": null,
   "id": "5b54e6ec",
   "metadata": {},
   "outputs": [],
   "source": [
    "random_rows = df.sample(n=3)\n",
    "random_rows"
   ]
  },
  {
   "cell_type": "markdown",
   "id": "e53ffd24",
   "metadata": {},
   "source": [
    "#### Selecting same records of sample by randon_state to main consistency in use cases like debugging"
   ]
  },
  {
   "cell_type": "code",
   "execution_count": null,
   "id": "ad0b5a3b",
   "metadata": {},
   "outputs": [],
   "source": [
    "random_sample = df.sample(n=5, random_state=67)\n",
    "random_sample"
   ]
  },
  {
   "cell_type": "markdown",
   "id": "e6b791bb",
   "metadata": {},
   "source": [
    "#### Sampling 30% of the dataset"
   ]
  },
  {
   "cell_type": "code",
   "execution_count": null,
   "id": "61406316",
   "metadata": {},
   "outputs": [],
   "source": [
    "fraction_sample = df.sample(frac=0.3)\n",
    "fraction_sample"
   ]
  }
 ],
 "metadata": {
  "kernelspec": {
   "display_name": "genai",
   "language": "python",
   "name": "python3"
  },
  "language_info": {
   "codemirror_mode": {
    "name": "ipython",
    "version": 3
   },
   "file_extension": ".py",
   "mimetype": "text/x-python",
   "name": "python",
   "nbconvert_exporter": "python",
   "pygments_lexer": "ipython3",
   "version": "3.13.3"
  }
 },
 "nbformat": 4,
 "nbformat_minor": 5
}
