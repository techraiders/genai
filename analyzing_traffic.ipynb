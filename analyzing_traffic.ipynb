{
 "cells": [
  {
   "cell_type": "markdown",
   "id": "759b6dd6",
   "metadata": {},
   "source": [
    "### Project: Analyzing Website Traffic Data"
   ]
  },
  {
   "cell_type": "code",
   "execution_count": null,
   "id": "45c22585",
   "metadata": {},
   "outputs": [],
   "source": [
    "import pandas as pd\n",
    "df = pd.read_csv('website_traffic.csv')\n",
    "df"
   ]
  },
  {
   "cell_type": "code",
   "execution_count": null,
   "id": "18fd3dee",
   "metadata": {},
   "outputs": [],
   "source": [
    "grouped_data = df.groupby('Source')\n",
    "average_durations = grouped_data['Duration'].mean()\n",
    "average_durations"
   ]
  }
 ],
 "metadata": {
  "kernelspec": {
   "display_name": "genai (3.13.3)",
   "language": "python",
   "name": "python3"
  },
  "language_info": {
   "codemirror_mode": {
    "name": "ipython",
    "version": 3
   },
   "file_extension": ".py",
   "mimetype": "text/x-python",
   "name": "python",
   "nbconvert_exporter": "python",
   "pygments_lexer": "ipython3",
   "version": "3.13.3"
  }
 },
 "nbformat": 4,
 "nbformat_minor": 5
}
