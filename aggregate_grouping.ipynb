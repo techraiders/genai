{
 "cells": [
  {
   "cell_type": "markdown",
   "id": "77e4a997",
   "metadata": {},
   "source": [
    "### Aggregate and Grouping Data"
   ]
  },
  {
   "cell_type": "code",
   "execution_count": null,
   "id": "b867bec7",
   "metadata": {},
   "outputs": [],
   "source": [
    "import pandas as pd\n",
    "data = {\n",
    "    'Category': ['Electronics', 'Electronics', 'Furniture', 'Furniture', 'Apparel'],\n",
    "    'Product': ['Laptop', 'Mouse', 'Chair', 'Table', 'Shoes'],\n",
    "    'Sales': [1200, 100, 400, 300, 50]\n",
    "}\n",
    "df = pd.DataFrame(data)"
   ]
  },
  {
   "cell_type": "code",
   "execution_count": null,
   "id": "19da7160",
   "metadata": {},
   "outputs": [],
   "source": [
    "df"
   ]
  },
  {
   "cell_type": "code",
   "execution_count": null,
   "id": "9803f54f",
   "metadata": {},
   "outputs": [],
   "source": [
    "grouped = df.groupby('Category')['Sales'].sum().reset_index()\n",
    "grouped"
   ]
  },
  {
   "cell_type": "code",
   "execution_count": null,
   "id": "a77752ae",
   "metadata": {},
   "outputs": [],
   "source": [
    "grouped = df.groupby(['Category', 'Product'])['Sales'].sum()\n",
    "grouped"
   ]
  },
  {
   "cell_type": "code",
   "execution_count": null,
   "id": "e6784632",
   "metadata": {},
   "outputs": [],
   "source": [
    "summary = df.groupby('Category')['Sales'].agg(['sum', 'mean', 'count'])\n",
    "summary"
   ]
  }
 ],
 "metadata": {
  "kernelspec": {
   "display_name": "genai (3.13.3)",
   "language": "python",
   "name": "python3"
  },
  "language_info": {
   "codemirror_mode": {
    "name": "ipython",
    "version": 3
   },
   "file_extension": ".py",
   "mimetype": "text/x-python",
   "name": "python",
   "nbconvert_exporter": "python",
   "pygments_lexer": "ipython3",
   "version": "3.13.3"
  }
 },
 "nbformat": 4,
 "nbformat_minor": 5
}
