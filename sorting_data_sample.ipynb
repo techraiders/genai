{
 "cells": [
  {
   "cell_type": "markdown",
   "id": "7f38fe35",
   "metadata": {},
   "source": [
    "### Sorting Data Sample"
   ]
  },
  {
   "cell_type": "code",
   "execution_count": null,
   "id": "7c09dff1",
   "metadata": {},
   "outputs": [],
   "source": [
    "import pandas as pd\n",
    "\n",
    "# Sample DataFrame\n",
    "data = {\n",
    "    'Name': ['Alice', 'Bob', 'Charlie', 'David', 'Eva'],\n",
    "    'Age': [25,45,35,40,30],\n",
    "    'City': ['New York', 'Los Angeles', 'Chicago', 'Houston', 'Miami']\n",
    "}\n",
    "df = pd.DataFrame(data)\n",
    "df"
   ]
  },
  {
   "cell_type": "code",
   "execution_count": null,
   "id": "a6cf9067",
   "metadata": {},
   "outputs": [],
   "source": [
    "sorted_df = df.sort_values(by='Age')\n",
    "sorted_df"
   ]
  },
  {
   "cell_type": "code",
   "execution_count": null,
   "id": "b53b030b",
   "metadata": {},
   "outputs": [],
   "source": [
    "sorted_df = df.sort_values(by='Age', ascending=False)\n",
    "sorted_df"
   ]
  },
  {
   "cell_type": "markdown",
   "id": "d47e486e",
   "metadata": {},
   "source": [
    "#### Sorting by multiple columns"
   ]
  },
  {
   "cell_type": "code",
   "execution_count": null,
   "id": "476d4f6a",
   "metadata": {},
   "outputs": [],
   "source": [
    "sorted_df = df.sort_values(by=['City', 'Age'])\n",
    "sorted_df"
   ]
  },
  {
   "cell_type": "code",
   "execution_count": null,
   "id": "108f85d4",
   "metadata": {},
   "outputs": [],
   "source": [
    "sorted_df = df.sort_index()\n",
    "sorted_df"
   ]
  },
  {
   "cell_type": "code",
   "execution_count": null,
   "id": "f37e9735",
   "metadata": {},
   "outputs": [],
   "source": [
    "df"
   ]
  },
  {
   "cell_type": "code",
   "execution_count": null,
   "id": "82da5197",
   "metadata": {},
   "outputs": [],
   "source": [
    "df.sort_values(by='Age', ascending=False, inplace=True)\n",
    "df"
   ]
  },
  {
   "cell_type": "markdown",
   "id": "de232521",
   "metadata": {},
   "source": [
    "##### USE CASE: Finding player with highest score in the leaderboard with names and scores with updading index in place"
   ]
  },
  {
   "cell_type": "code",
   "execution_count": null,
   "id": "22dbc72f",
   "metadata": {},
   "outputs": [],
   "source": [
    "data = {\n",
    "    'Player': ['Alice', 'Bob', 'Charlie', 'Diana', 'Eve'],\n",
    "    'Score': [150, 200, 125, 300, 175]\n",
    "}\n",
    "df = pd.DataFrame(data)\n",
    "df"
   ]
  },
  {
   "cell_type": "code",
   "execution_count": null,
   "id": "bf272dd9",
   "metadata": {},
   "outputs": [],
   "source": [
    "sorted_df = df.sort_values(by='Score', ascending=False).reset_index(drop=True)\n",
    "sorted_df['Rank'] = sorted_df.index + 1\n",
    "sorted_df"
   ]
  }
 ],
 "metadata": {
  "kernelspec": {
   "display_name": "genai (3.13.3)",
   "language": "python",
   "name": "python3"
  },
  "language_info": {
   "codemirror_mode": {
    "name": "ipython",
    "version": 3
   },
   "file_extension": ".py",
   "mimetype": "text/x-python",
   "name": "python",
   "nbconvert_exporter": "python",
   "pygments_lexer": "ipython3",
   "version": "3.13.3"
  }
 },
 "nbformat": 4,
 "nbformat_minor": 5
}
