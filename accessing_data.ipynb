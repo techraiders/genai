{
 "cells": [
  {
   "cell_type": "markdown",
   "id": "899b9508",
   "metadata": {},
   "source": [
    "## Accessing Data: Using df.iloc[] and df.loc[]"
   ]
  },
  {
   "cell_type": "code",
   "execution_count": null,
   "id": "f6036a71",
   "metadata": {},
   "outputs": [],
   "source": [
    "import pandas as pd\n",
    "\n",
    "# Sample DataFrame\n",
    "data = {\n",
    "    'Name': ['Alice', 'Bob', 'Charlie', 'David', 'Eva'],\n",
    "    'Age': [25,30,35,40,45],\n",
    "    'City': ['New York', 'Los Angeles', 'Chicago', 'Houston', 'Seattle']\n",
    "}\n",
    "\n",
    "df = pd.DataFrame(data)"
   ]
  },
  {
   "cell_type": "code",
   "execution_count": null,
   "id": "578195d1",
   "metadata": {},
   "outputs": [],
   "source": [
    "df"
   ]
  },
  {
   "cell_type": "markdown",
   "id": "964a84d3",
   "metadata": {},
   "source": [
    "### Accessing a single row"
   ]
  },
  {
   "cell_type": "code",
   "execution_count": null,
   "id": "bc9519b9",
   "metadata": {},
   "outputs": [],
   "source": [
    "row = df.loc[2]\n",
    "row"
   ]
  },
  {
   "cell_type": "markdown",
   "id": "526f6819",
   "metadata": {},
   "source": [
    "### Accessing a single cell"
   ]
  },
  {
   "cell_type": "code",
   "execution_count": null,
   "id": "635eb777",
   "metadata": {},
   "outputs": [],
   "source": [
    "cell = df.loc[3, 'City']\n",
    "cell"
   ]
  },
  {
   "cell_type": "markdown",
   "id": "fdabc37d",
   "metadata": {},
   "source": [
    "### Accessing a slice of row"
   ]
  },
  {
   "cell_type": "code",
   "execution_count": null,
   "id": "2eebcff9",
   "metadata": {},
   "outputs": [],
   "source": [
    "subset_rows = df.loc[1:3]\n",
    "subset_rows"
   ]
  },
  {
   "cell_type": "markdown",
   "id": "2e3a851c",
   "metadata": {},
   "source": [
    "### Accessing a subset of rows and columns"
   ]
  },
  {
   "cell_type": "code",
   "execution_count": null,
   "id": "54db2545",
   "metadata": {},
   "outputs": [],
   "source": [
    "subset = df.loc[1:4, ['Name', 'City']]\n",
    "subset"
   ]
  },
  {
   "cell_type": "markdown",
   "id": "3f146f68",
   "metadata": {},
   "source": [
    "### Filter rows where Age is greater than 30"
   ]
  },
  {
   "cell_type": "code",
   "execution_count": null,
   "id": "c915a691",
   "metadata": {},
   "outputs": [],
   "source": [
    "mask = df['Age'] > 30\n",
    "filtered = df.loc[mask]\n",
    "filtered"
   ]
  }
 ],
 "metadata": {
  "kernelspec": {
   "display_name": "genai (3.13.3)",
   "language": "python",
   "name": "python3"
  },
  "language_info": {
   "codemirror_mode": {
    "name": "ipython",
    "version": 3
   },
   "file_extension": ".py",
   "mimetype": "text/x-python",
   "name": "python",
   "nbconvert_exporter": "python",
   "pygments_lexer": "ipython3",
   "version": "3.13.3"
  }
 },
 "nbformat": 4,
 "nbformat_minor": 5
}
