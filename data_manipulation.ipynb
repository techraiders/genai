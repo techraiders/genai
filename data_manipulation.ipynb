{
 "cells": [
  {
   "cell_type": "markdown",
   "id": "00faa067",
   "metadata": {},
   "source": [
    "## Modifying Data: Adding and Dropping Columns and Rows"
   ]
  },
  {
   "cell_type": "code",
   "execution_count": null,
   "id": "cbd53f3e",
   "metadata": {},
   "outputs": [],
   "source": [
    "import pandas as pd\n",
    "\n",
    "# Sample DataFrame\n",
    "data = {\n",
    "    'Name': ['Alice', 'Bob', 'Chalie'],\n",
    "    'Age': [25,30,35]\n",
    "}\n",
    "df = pd.DataFrame(data)"
   ]
  },
  {
   "cell_type": "code",
   "execution_count": null,
   "id": "9a149643",
   "metadata": {},
   "outputs": [],
   "source": [
    "df"
   ]
  },
  {
   "cell_type": "markdown",
   "id": "736a1ac0",
   "metadata": {},
   "source": [
    "### Adding a new column"
   ]
  },
  {
   "cell_type": "code",
   "execution_count": null,
   "id": "114fb7de",
   "metadata": {},
   "outputs": [],
   "source": [
    "df['City'] = ['New York', 'Los Angeles', 'Chicago']"
   ]
  },
  {
   "cell_type": "code",
   "execution_count": null,
   "id": "ae15f2ee",
   "metadata": {},
   "outputs": [],
   "source": [
    "df"
   ]
  },
  {
   "cell_type": "markdown",
   "id": "d4e62c81",
   "metadata": {},
   "source": [
    "### Adding a computed column"
   ]
  },
  {
   "cell_type": "code",
   "execution_count": null,
   "id": "b9e186d0",
   "metadata": {},
   "outputs": [],
   "source": [
    "df['Age Group'] = ['Young' if age < 30 else 'Mature' for age in df['Age']]"
   ]
  },
  {
   "cell_type": "code",
   "execution_count": null,
   "id": "745d5070",
   "metadata": {},
   "outputs": [],
   "source": [
    "df"
   ]
  },
  {
   "cell_type": "markdown",
   "id": "45f29f51",
   "metadata": {},
   "source": [
    "### Removing a column"
   ]
  },
  {
   "cell_type": "code",
   "execution_count": null,
   "id": "f4a8ee1b",
   "metadata": {},
   "outputs": [],
   "source": [
    "df = df.drop('Age Group', axis=1)"
   ]
  },
  {
   "cell_type": "code",
   "execution_count": null,
   "id": "cc3a6d0a",
   "metadata": {},
   "outputs": [],
   "source": [
    "df"
   ]
  },
  {
   "cell_type": "markdown",
   "id": "86570dc2",
   "metadata": {},
   "source": [
    "### Removing a row"
   ]
  },
  {
   "cell_type": "code",
   "execution_count": null,
   "id": "7369e02e",
   "metadata": {},
   "outputs": [],
   "source": [
    "df = df.drop(1)"
   ]
  },
  {
   "cell_type": "code",
   "execution_count": null,
   "id": "b04972b7",
   "metadata": {},
   "outputs": [],
   "source": [
    "df"
   ]
  },
  {
   "cell_type": "markdown",
   "id": "cd7ead68",
   "metadata": {},
   "source": [
    "### Add multiple columns at once"
   ]
  },
  {
   "cell_type": "code",
   "execution_count": null,
   "id": "7d3a78ac",
   "metadata": {},
   "outputs": [],
   "source": [
    "df = df.assign(Discount=[5,10], Total_Spend=[100,200])"
   ]
  },
  {
   "cell_type": "code",
   "execution_count": null,
   "id": "fec33432",
   "metadata": {},
   "outputs": [],
   "source": [
    "df"
   ]
  }
 ],
 "metadata": {
  "kernelspec": {
   "display_name": "genai (3.13.3)",
   "language": "python",
   "name": "python3"
  },
  "language_info": {
   "codemirror_mode": {
    "name": "ipython",
    "version": 3
   },
   "file_extension": ".py",
   "mimetype": "text/x-python",
   "name": "python",
   "nbconvert_exporter": "python",
   "pygments_lexer": "ipython3",
   "version": "3.13.3"
  }
 },
 "nbformat": 4,
 "nbformat_minor": 5
}
