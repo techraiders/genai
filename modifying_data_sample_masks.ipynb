{
 "cells": [
  {
   "cell_type": "markdown",
   "id": "308ee392",
   "metadata": {},
   "source": [
    "### Filtering Data: Masks and pandas.Series.between()"
   ]
  },
  {
   "cell_type": "code",
   "execution_count": null,
   "id": "6433b117",
   "metadata": {},
   "outputs": [],
   "source": [
    "import pandas as pd\n",
    "\n",
    "# Sample DataFrame\n",
    "data = {\n",
    "    'Name': ['Alice', 'Bob', 'Charlie', 'David', 'Eva'],\n",
    "    'Age': [25,30,35,40,45],\n",
    "    'City': ['New York', 'Los Angeles', 'Chicago', 'Houston', 'Miami']\n",
    "}\n",
    "df = pd.DataFrame(data)"
   ]
  },
  {
   "cell_type": "code",
   "execution_count": null,
   "id": "ff3a3449",
   "metadata": {},
   "outputs": [],
   "source": [
    "df"
   ]
  },
  {
   "cell_type": "code",
   "execution_count": null,
   "id": "41a0f0d8",
   "metadata": {},
   "outputs": [],
   "source": [
    "mask = df['Age'] > 30"
   ]
  },
  {
   "cell_type": "code",
   "execution_count": null,
   "id": "decf64b0",
   "metadata": {},
   "outputs": [],
   "source": [
    "mask"
   ]
  },
  {
   "cell_type": "code",
   "execution_count": null,
   "id": "5771f10a",
   "metadata": {},
   "outputs": [],
   "source": [
    "filtered_df = df[mask]\n",
    "filtered_df"
   ]
  },
  {
   "cell_type": "code",
   "execution_count": null,
   "id": "d621a803",
   "metadata": {},
   "outputs": [],
   "source": [
    "mask = (df['Age'] > 30) & (df['City'] != 'Houston')\n",
    "filtered_df = df[mask]\n",
    "filtered_df"
   ]
  },
  {
   "cell_type": "markdown",
   "id": "14001acf",
   "metadata": {},
   "source": [
    "#### pansas.Series.between()"
   ]
  },
  {
   "cell_type": "code",
   "execution_count": null,
   "id": "8ca1ca07",
   "metadata": {},
   "outputs": [],
   "source": [
    "df"
   ]
  },
  {
   "cell_type": "code",
   "execution_count": null,
   "id": "16c777dc",
   "metadata": {},
   "outputs": [],
   "source": [
    "filtered_df = df[df['Age'].between(30,40)]\n",
    "filtered_df"
   ]
  },
  {
   "cell_type": "code",
   "execution_count": null,
   "id": "f2d20356",
   "metadata": {},
   "outputs": [],
   "source": [
    "mask = df['City'].isin(['Chicago', 'Houston'])\n",
    "filtered_df = df[mask]\n",
    "filtered_df"
   ]
  }
 ],
 "metadata": {
  "kernelspec": {
   "display_name": "genai (3.13.3)",
   "language": "python",
   "name": "python3"
  },
  "language_info": {
   "codemirror_mode": {
    "name": "ipython",
    "version": 3
   },
   "file_extension": ".py",
   "mimetype": "text/x-python",
   "name": "python",
   "nbconvert_exporter": "python",
   "pygments_lexer": "ipython3",
   "version": "3.13.3"
  }
 },
 "nbformat": 4,
 "nbformat_minor": 5
}
