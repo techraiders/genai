{
 "cells": [
  {
   "cell_type": "markdown",
   "id": "70b90ce4-8ae1-4ca8-9cb1-be8c14f694a0",
   "metadata": {},
   "source": [
    "# Working with Files"
   ]
  },
  {
   "cell_type": "code",
   "execution_count": null,
   "id": "499ec803-4dca-41d8-a60f-9bb632031fd3",
   "metadata": {},
   "outputs": [],
   "source": [
    "import pandas as pd\n",
    "df = pd.read_csv('model_logs.csv')"
   ]
  },
  {
   "cell_type": "code",
   "execution_count": null,
   "id": "3ca4b4bd-9472-4863-af06-2f17a8c9cbd5",
   "metadata": {},
   "outputs": [],
   "source": [
    "df"
   ]
  },
  {
   "cell_type": "code",
   "execution_count": null,
   "id": "7ba0df34-4ae4-4bce-b298-012e7c49ca29",
   "metadata": {},
   "outputs": [],
   "source": [
    "# print data types of columns\n",
    "df.dtypes"
   ]
  },
  {
   "cell_type": "code",
   "execution_count": null,
   "id": "735305e2-3ec3-43f6-a42c-29765be00257",
   "metadata": {},
   "outputs": [],
   "source": [
    "# Convert date column dtype from object to datetime \n",
    "df['Date'] = pd.to_datetime(df['Date'])"
   ]
  },
  {
   "cell_type": "code",
   "execution_count": null,
   "id": "62990470-7666-4096-b6b0-8361b64ff29d",
   "metadata": {},
   "outputs": [],
   "source": [
    "# print data types of columns\n",
    "df.dtypes"
   ]
  },
  {
   "cell_type": "code",
   "execution_count": null,
   "id": "05170fc7-abd6-46ff-8901-ca899c25921c",
   "metadata": {
    "scrolled": true
   },
   "outputs": [],
   "source": [
    "# Filtering data, in this cases slow responses i.e. higher response time\n",
    "mask = df['Response Time (ms)'] > 50\n",
    "slow_responses = df[mask]\n",
    "slow_responses"
   ]
  },
  {
   "cell_type": "code",
   "execution_count": null,
   "id": "defb23e6-277e-4508-84a1-f0d2da848af5",
   "metadata": {},
   "outputs": [],
   "source": [
    "# write slow responses to a new csv file\n",
    "slow_responses.to_csv('slow_responses.csv', index = False)\n",
    "print(\"Filtered data saved to 'slow_responses.csv'!\")"
   ]
  },
  {
   "cell_type": "markdown",
   "id": "c58d31dd-a025-48f0-869d-6dee33c427f7",
   "metadata": {},
   "source": [
    "### Exporting to Excel"
   ]
  },
  {
   "cell_type": "code",
   "execution_count": null,
   "id": "41417a55-23ca-4279-af21-3874f1baca32",
   "metadata": {},
   "outputs": [],
   "source": [
    "pip install openpyxl -q"
   ]
  },
  {
   "cell_type": "code",
   "execution_count": null,
   "id": "1aa8e0db-d346-4b90-afc5-660605379a84",
   "metadata": {},
   "outputs": [],
   "source": [
    "df.to_excel('data.xlsx', index = False)\n",
    "print(\"Data exported to 'data.xlsx'\")"
   ]
  },
  {
   "cell_type": "markdown",
   "id": "bafa41aa-8c50-46a5-b5a3-3cb258a05295",
   "metadata": {},
   "source": [
    "### Exporting to JSON"
   ]
  },
  {
   "cell_type": "code",
   "execution_count": null,
   "id": "984d8901-75e2-44cb-a31b-61d0fdf541c4",
   "metadata": {},
   "outputs": [],
   "source": [
    "df.to_json('data.json', orient='columns')\n",
    "df.to_json('chat_data.jsonl', orient='records', lines=True)"
   ]
  },
  {
   "cell_type": "markdown",
   "id": "9ffeca24-05d4-40fe-a8d1-eb385cc84c2a",
   "metadata": {},
   "source": [
    "### Exporting to SQL"
   ]
  },
  {
   "cell_type": "code",
   "execution_count": null,
   "id": "cd8d7fb2-0038-4120-8de8-2276c22280f9",
   "metadata": {},
   "outputs": [],
   "source": [
    "import sqlite3\n",
    "conn = sqlite3.connect('chat_data.db')\n",
    "df.to_sql('chat_data.db', conn, if_exists='replace', index=False)\n",
    "conn.close()"
   ]
  },
  {
   "cell_type": "markdown",
   "id": "17a74c86-af4a-4e13-b4f6-84953dcb0f52",
   "metadata": {},
   "source": [
    "### Exporting to YAML"
   ]
  },
  {
   "cell_type": "code",
   "execution_count": null,
   "id": "cb363d77-6ae4-458a-83f5-b671587700de",
   "metadata": {},
   "outputs": [],
   "source": [
    "import yaml\n",
    "data_dict = df.to_dict(orient='records')"
   ]
  },
  {
   "cell_type": "code",
   "execution_count": null,
   "id": "42775711-2894-498a-87d9-2243e17ed18e",
   "metadata": {},
   "outputs": [],
   "source": [
    "with open('chat_data.yaml', 'w') as file:\n",
    "    yaml.dump(data_dict, file)\n",
    "    print('Data exported to chat_data.yaml!')"
   ]
  }
 ],
 "metadata": {
  "kernelspec": {
   "display_name": "genai (3.13.3)",
   "language": "python",
   "name": "python3"
  },
  "language_info": {
   "codemirror_mode": {
    "name": "ipython",
    "version": 3
   },
   "file_extension": ".py",
   "mimetype": "text/x-python",
   "name": "python",
   "nbconvert_exporter": "python",
   "pygments_lexer": "ipython3",
   "version": "3.13.3"
  }
 },
 "nbformat": 4,
 "nbformat_minor": 5
}
